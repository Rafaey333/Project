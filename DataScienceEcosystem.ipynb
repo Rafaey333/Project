{
 "cells": [
  {
   "cell_type": "markdown",
   "metadata": {},
   "source": [
    "<center>\n",
    "    <img src=\"https://cf-courses-data.s3.us.cloud-object-storage.appdomain.cloud/IBMDeveloperSkillsNetwork-DS0105EN-SkillsNetwork/labs/Module2/images/SN_web_lightmode.png\" width=\"300\" alt=\"cognitiveclass.ai logo\">\n",
    "</center>\n"
   ]
  },
  {
   "cell_type": "markdown",
   "metadata": {},
   "source": [
    "#### Add your code below following the instructions given in the course\n"
   ]
  },
  {
   "cell_type": "code",
   "execution_count": 1,
   "metadata": {},
   "outputs": [
    {
     "name": "stdout",
     "output_type": "stream",
     "text": [
      "In this notebook, Data Science Tools and Ecosystem are summarized.\n"
     ]
    }
   ],
   "source": [
    "# Data Science Tools and Ecosystem"
   ]
  },
  {
   "cell_type": "code",
   "execution_count": 2,
   "metadata": {
    "tags": []
   },
   "outputs": [
    {
     "name": "stdout",
     "output_type": "stream",
     "text": [
      "In this notebook, Data Science Tools and Ecosystem are summarized.\n"
     ]
    }
   ],
   "source": [
    "print('In this notebook, Data Science Tools and Ecosystem are summarized.')"
   ]
  },
  {
   "cell_type": "code",
   "execution_count": 16,
   "metadata": {
    "tags": []
   },
   "outputs": [
    {
     "name": "stdout",
     "output_type": "stream",
     "text": [
      "- languages for Data Science\n",
      "-  libraries used in Data Science\n",
      "- Introduce arithmetic expression\n",
      "- Convert minutes to hours using Python\n",
      "- Demonstrate how to create markdown cells in Jupyter Notebook\n"
     ]
    }
   ],
   "source": [
    "#**Objectives:**\n",
    "\n",
    "print('''- languages for Data Science\n",
    "-  libraries used in Data Science\n",
    "- Introduce arithmetic expression\n",
    "- Convert minutes to hours using Python\n",
    "- Demonstrate how to create markdown cells in Jupyter Notebook''')\n"
   ]
  },
  {
   "cell_type": "code",
   "execution_count": 8,
   "metadata": {
    "tags": []
   },
   "outputs": [
    {
     "name": "stdout",
     "output_type": "stream",
     "text": [
      "Some of the popular languages that Data Scientists use are:\n",
      "\n",
      "      1.Python\n",
      "      2.R\n",
      "      3.Julia\n",
      "Some of the commonly used libraries used by Data Scientists include:\n",
      "\n",
      "1. NumPy\n",
      "2. Pandas\n",
      "3. Matplotlib\n",
      "\n"
     ]
    }
   ],
   "source": [
    "# Data Science Tools and Ecosystem\n",
    "\n",
    "print('Some of the popular languages that Data Scientists use are:')\n",
    "print('''\n",
    "      1.Python\n",
    "      2.R\n",
    "      3.Julia''')\n",
    "print('''Some of the commonly used libraries used by Data Scientists include:\n",
    "\n",
    "1. NumPy\n",
    "2. Pandas\n",
    "3. Matplotlib\n",
    "''')\n"
   ]
  },
  {
   "cell_type": "code",
   "execution_count": 11,
   "metadata": {
    "tags": []
   },
   "outputs": [
    {
     "name": "stdout",
     "output_type": "stream",
     "text": [
      "| Data Science Tools |\n",
      "|--------------------|\n",
      "| Tool 1  R studio                   |\n",
      "| Tool 2  Jupyter Notebook           |\n",
      "| Tool 3  Apache Spark               |\n"
     ]
    }
   ],
   "source": [
    "print('''| Data Science Tools |\n",
    "|--------------------|\n",
    "| Tool 1  R studio                   |\n",
    "| Tool 2  Jupyter Notebook           |\n",
    "| Tool 3  Apache Spark               |''')\n"
   ]
  },
  {
   "cell_type": "code",
   "execution_count": 13,
   "metadata": {
    "tags": []
   },
   "outputs": [
    {
     "name": "stdout",
     "output_type": "stream",
     "text": [
      "17\n"
     ]
    }
   ],
   "source": [
    "### Below are a few examples of evaluating arithmetic expressions in Python\n",
    "# This is a simple arithmetic expression to multiply then add integers.\n",
    "result = (3*4) + 5\n",
    "print(result)\n"
   ]
  },
  {
   "cell_type": "code",
   "execution_count": 14,
   "metadata": {
    "tags": []
   },
   "outputs": [
    {
     "name": "stdout",
     "output_type": "stream",
     "text": [
      "3.3333333333333335\n"
     ]
    }
   ],
   "source": [
    "\n",
    "minutes = 200\n",
    "hours = minutes / 60\n",
    "print(hours)\n"
   ]
  },
  {
   "cell_type": "code",
   "execution_count": 17,
   "metadata": {
    "tags": []
   },
   "outputs": [
    {
     "name": "stdout",
     "output_type": "stream",
     "text": [
      "Rafaey Ahmad\n"
     ]
    }
   ],
   "source": [
    "##Author\n",
    "print('Rafaey Ahmad')"
   ]
  },
  {
   "cell_type": "code",
   "execution_count": null,
   "metadata": {},
   "outputs": [],
   "source": []
  }
 ],
 "metadata": {
  "kernelspec": {
   "display_name": "Python",
   "language": "python",
   "name": "conda-env-python-py"
  },
  "language_info": {
   "codemirror_mode": {
    "name": "ipython",
    "version": 3
   },
   "file_extension": ".py",
   "mimetype": "text/x-python",
   "name": "python",
   "nbconvert_exporter": "python",
   "pygments_lexer": "ipython3",
   "version": "3.7.12"
  }
 },
 "nbformat": 4,
 "nbformat_minor": 4
}
